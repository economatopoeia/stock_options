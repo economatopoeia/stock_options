{
  "nbformat": 4,
  "nbformat_minor": 0,
  "metadata": {
    "colab": {
      "name": "OptionsModel_8_29.ipynb",
      "provenance": [],
      "collapsed_sections": [],
      "authorship_tag": "ABX9TyNct2MXt7v4Fqy5lp6WuPJh",
      "include_colab_link": true
    },
    "kernelspec": {
      "name": "python3",
      "display_name": "Python 3"
    }
  },
  "cells": [
    {
      "cell_type": "markdown",
      "metadata": {
        "id": "view-in-github",
        "colab_type": "text"
      },
      "source": [
        "<a href=\"https://colab.research.google.com/github/economatopoeia/stock_options/blob/master/OptionsModel_8_29.ipynb\" target=\"_parent\"><img src=\"https://colab.research.google.com/assets/colab-badge.svg\" alt=\"Open In Colab\"/></a>"
      ]
    },
    {
      "cell_type": "markdown",
      "metadata": {
        "id": "7ZjKL_ALd0Wt",
        "colab_type": "text"
      },
      "source": [
        "### Stock Options Evaluation Model: PART I\n",
        "\n"
      ]
    },
    {
      "cell_type": "code",
      "metadata": {
        "id": "wUb-Udu9MQEp",
        "colab_type": "code",
        "colab": {}
      },
      "source": [
        "###PACKAGES AND FORMATTING \n",
        "\n",
        "#Importing required modules\n",
        "import pandas as pd\n",
        "import numpy as np\n",
        "import matplotlib.pyplot as plt\n",
        "import random\n",
        "from copy import copy\n",
        "!pip install requests_html\n",
        "!pip install yahoo_fin\n",
        "from yahoo_fin.stock_info import *\n",
        "from yahoo_fin.options import *\n",
        "import math\n",
        "from datetime import date \n",
        "from datetime import datetime\n",
        "\n",
        "%load_ext google.colab.data_table\n",
        "#%unload_ext google.colab.data_table  #to disable \n",
        "\n"
      ],
      "execution_count": null,
      "outputs": []
    },
    {
      "cell_type": "code",
      "metadata": {
        "id": "1uPWSMV8NX8Z",
        "colab_type": "code",
        "colab": {}
      },
      "source": [
        "#Generating S&P 500 List of Stocks\n",
        "sp_list = tickers_sp500()\n",
        "#these two make errors due to . \n",
        "sp_list.remove('BF.B')\n",
        "sp_list.remove('BRK.B')\n",
        "\n",
        "sp_list"
      ],
      "execution_count": null,
      "outputs": []
    },
    {
      "cell_type": "code",
      "metadata": {
        "id": "1jBhLLtYokDq",
        "colab_type": "code",
        "colab": {}
      },
      "source": [
        "#Creating options dataset\n",
        "options_df = pd.DataFrame()\n",
        "expiration = get_expiration_dates(sp_list[0])[1]\n",
        "for stock in sp_list:\n",
        "    try:\n",
        "        price = get_live_price(stock)           #current market price of the stock\n",
        "        option = get_calls(stock,expiration)\n",
        "        option['CurrentPrice'] = price\n",
        "        option['Ticker'] = stock\n",
        "        option['DateExp'] = expiration\n",
        "        options_df = options_df.append(option)\n",
        "        print(price)\n",
        "        print(stock)\n",
        "    except:\n",
        "        print('Option contract not available on '+ str(expiration))\n",
        "        pass   \n"
      ],
      "execution_count": null,
      "outputs": []
    },
    {
      "cell_type": "code",
      "metadata": {
        "id": "fmebNk0wqhnO",
        "colab_type": "code",
        "colab": {
          "base_uri": "https://localhost:8080/",
          "height": 71
        },
        "outputId": "3f4d1d4b-461f-401a-e49c-35cd36a7fc8e"
      },
      "source": [
        "options_df = options_df[['Contract Name', 'Strike','Bid', 'Ask', 'CurrentPrice', 'Volume', 'Open Interest', 'Ticker', 'DateExp']]\n",
        "\n",
        "options_df = options_df[options_df.Bid != '-']\n",
        "options_df = options_df[options_df.Ask != '-']\n",
        "\n",
        "options_df['AvgPrice'] = (pd.to_numeric(options_df.Bid) + pd.to_numeric(options_df.Ask)) / 2\n",
        "options_df['OptionCost'] = options_df['AvgPrice'] * 100\n",
        "options_df['BE_percent'] = ((options_df.Strike + options_df.AvgPrice)/(options_df.CurrentPrice)) - 1"
      ],
      "execution_count": null,
      "outputs": [
        {
          "output_type": "stream",
          "text": [
            "/usr/local/lib/python3.6/dist-packages/pandas/core/ops/array_ops.py:253: FutureWarning: elementwise comparison failed; returning scalar instead, but in the future will perform elementwise comparison\n",
            "  res_values = method(rvalues)\n"
          ],
          "name": "stderr"
        }
      ]
    },
    {
      "cell_type": "code",
      "metadata": {
        "id": "cDMy52q73Wyp",
        "colab_type": "code",
        "colab": {}
      },
      "source": [
        "def price_percent_payoff(x, row):  #x is in decimal format\n",
        "    new_price = row.CurrentPrice * (1 + x)\n",
        "    if (100*new_price - 100*row.Strike - row.OptionCost) >= 0:\n",
        "        payoff = 100*new_price - 100*row.Strike - row.OptionCost\n",
        "    else:\n",
        "        payoff = -(row.OptionCost)\n",
        "    return(payoff)"
      ],
      "execution_count": null,
      "outputs": []
    },
    {
      "cell_type": "code",
      "metadata": {
        "id": "ihKSF02u4mXL",
        "colab_type": "code",
        "colab": {
          "base_uri": "https://localhost:8080/",
          "height": 295
        },
        "outputId": "27af413d-92ce-4917-d332-c65e1e2dc46e"
      },
      "source": [
        "x_axis = np.arange(-50, 51, 1)\n",
        "payoffs = []\n",
        "for p in range(len(x_axis)):\n",
        "    percent = (p - 50)*0.01\n",
        "    payoff = price_percent_payoff(percent,options_df[options_df.Ticker == 'T'].iloc[5])\n",
        "    payoffs.append(payoff)\n",
        "\n",
        "contract = options_df[options_df.Ticker == 'T'].iloc[5]['Contract Name']\n",
        "plt.bar(x_axis, payoffs)\n",
        "plt.xlabel('Price % Change from start date to expiration')\n",
        "plt.ylabel('Payoff ($)')\n",
        "plt.title('Payoff Possibilities for ' + str(contract));\n",
        "plt.savefig('T_prices.png', dpi = 800)\n"
      ],
      "execution_count": null,
      "outputs": [
        {
          "output_type": "display_data",
          "data": {
            "image/png": "[encoded data removed]",
            "text/plain": [
              "<Figure size 432x288 with 1 Axes>"
            ]
          },
          "metadata": {
            "tags": [],
            "needs_background": "light"
          }
        }
      ]
    },
    {
      "cell_type": "code",
      "metadata": {
        "id": "jVimz1C78HDq",
        "colab_type": "code",
        "colab": {
          "base_uri": "https://localhost:8080/",
          "height": 34
        },
        "outputId": "47ed052c-839c-4a21-8324-75b8e7a261cd"
      },
      "source": [
        "options_df[options_df.Ticker == 'T'].iloc[5]['BE_percent']"
      ],
      "execution_count": null,
      "outputs": [
        {
          "output_type": "execute_result",
          "data": {
            "text/plain": [
              "-0.0010039880056620376"
            ]
          },
          "metadata": {
            "tags": []
          },
          "execution_count": 7
        }
      ]
    },
    {
      "cell_type": "markdown",
      "metadata": {
        "id": "BTkGwc_TjAPp",
        "colab_type": "text"
      },
      "source": [
        "### Stock Options Evaluation Model: PART II\n"
      ]
    },
    {
      "cell_type": "code",
      "metadata": {
        "id": "iE7GNV68jBBY",
        "colab_type": "code",
        "colab": {}
      },
      "source": [
        "def delta_dist(ticker, duration, sample_size):\n",
        "    stock = get_data(ticker).close\n",
        "    dates = list(stock.index)\n",
        "    duration = int(duration)\n",
        "    sample_size = int(sample_size)\n",
        "    deltas = []\n",
        "\n",
        "    for s in range(sample_size):\n",
        "        try:\n",
        "            x = random.randint(0, (sample_size - 1))\n",
        "            start = stock[x]\n",
        "            stop = stock[x + duration]\n",
        "            difference_percent = (stop - start)/start\n",
        "            deltas.append(difference_percent)\n",
        "        except:\n",
        "            pass\n",
        "\n",
        "    return deltas\n"
      ],
      "execution_count": null,
      "outputs": []
    },
    {
      "cell_type": "code",
      "metadata": {
        "id": "YDt3jTdbpQdt",
        "colab_type": "code",
        "colab": {}
      },
      "source": [
        "def binned(diffs):\n",
        "    bins = []\n",
        "    for bin in range(101):    #needs to be 101 to count -50% and +50%\n",
        "        begin = (bin - 50)*0.01\n",
        "        def between_bins(k):\n",
        "            return (k <= begin + .01) and (k > begin)\n",
        "        count = list(filter(between_bins, diffs))\n",
        "        amount = len(count)/len(diffs)  #amount is percent of total\n",
        "        bins.append(amount)\n",
        "    return(bins)"
      ],
      "execution_count": null,
      "outputs": []
    },
    {
      "cell_type": "code",
      "metadata": {
        "id": "txp3T7Gkq06O",
        "colab_type": "code",
        "colab": {}
      },
      "source": [
        "#SAMPLE SIZE 200\n",
        "changes = delta_dist('AAPL', 14, 200)\n",
        "binned_changes = binned(changes)\n",
        "x_axis = np.arange(-50, 51, 1)\n",
        "\n",
        "plt.bar(x_axis, binned_changes)\n",
        "plt.xlabel('Stock Price % Change')\n",
        "plt.ylabel('Probability')\n",
        "plt.title('AAPL: Probability Distribution- 14 day price change(Sample Size=200)');\n",
        "plt.savefig('AAPL_prices.png', dpi = 800)\n"
      ],
      "execution_count": null,
      "outputs": []
    },
    {
      "cell_type": "code",
      "metadata": {
        "colab_type": "code",
        "id": "glmPp39ash1k",
        "colab": {}
      },
      "source": [
        "#SAMPLE SIZE 9000\n",
        "changes = delta_dist('AAPL', 14, 9000)\n",
        "binned_changes = binned(changes)\n",
        "x_axis = np.arange(-50, 51, 1)\n",
        "\n",
        "plt.bar(x_axis, binned_changes)\n",
        "plt.xlabel('Stock Price % Change')\n",
        "plt.ylabel('Probability')\n",
        "plt.title('AAPL: Probability Distribution- 14 day price change(Sample Size=9000)');\n",
        "plt.savefig('AAPL_prices.png', dpi = 800)\n"
      ],
      "execution_count": null,
      "outputs": []
    },
    {
      "cell_type": "code",
      "metadata": {
        "colab_type": "code",
        "id": "LGis96wCsw3U",
        "colab": {}
      },
      "source": [
        "#SAMPLE SIZE 3000, DURATION = 5 years\n",
        "changes = delta_dist('AAPL', 365*3, 3000)\n",
        "binned_changes = binned(changes)\n",
        "x_axis = np.arange(-50, 51, 1)\n",
        "\n",
        "plt.bar(x_axis, binned_changes)\n",
        "plt.xlabel('Stock Price % Change')\n",
        "plt.ylabel('Probability')\n",
        "plt.title('AAPL: Probability Distribution- 3 Year Price Change');\n",
        "plt.savefig('AAPL_prices.png', dpi = 800)\n"
      ],
      "execution_count": null,
      "outputs": []
    },
    {
      "cell_type": "code",
      "metadata": {
        "id": "0PdRJnh7vPzi",
        "colab_type": "code",
        "colab": {}
      },
      "source": [
        "#Generate time lapse between today and expiration of options contract:\n",
        "timedate_until_exp = datetime.strptime(expiration, '%B %d, %Y') - datetime.today()\n",
        "time_until_exp = int(timedate_until_exp.days)  #gives integer value of distance from today until expiration"
      ],
      "execution_count": null,
      "outputs": []
    },
    {
      "cell_type": "code",
      "metadata": {
        "id": "Ys9BmITOw-7m",
        "colab_type": "code",
        "colab": {}
      },
      "source": [
        "#Creating dictionary containing each ticker and prob distribution \n",
        "scenario_tickers = list(set(options_df.Ticker))\n",
        "number_of_tickers = len(scenario_tickers)\n",
        "simulations = 2000\n",
        "\n",
        "#dict_of_stuff will contain each ticker key corresponding to the 101 values of its distribution of price changes [-50%, 50%]\n",
        "dict_of_probs = dict()\n",
        "for stock in scenario_tickers:      #N is the sample size\n",
        "    changes = delta_dist(stock, time_until_exp, simulations) \n",
        "    distribution_list = binned(changes)   #then, bin these changes so that they fit into the -50% to +50% integer counts\n",
        "    dict_of_probs.update({stock : distribution_list})  #matches each ticker in dictionary with 101 counts "
      ],
      "execution_count": null,
      "outputs": []
    },
    {
      "cell_type": "code",
      "metadata": {
        "id": "imk5Dx55xptu",
        "colab_type": "code",
        "colab": {}
      },
      "source": [
        "#Verify it works with example\n",
        "x_axis = np.arange(-50, 51, 1)\n",
        "example = random.randint(0, number_of_tickers - 1)\n",
        "\n",
        "plt.bar(x_axis, dict_of_probs[scenario_tickers[example]])\n",
        "plt.xlabel('Stock Price % Change')\n",
        "plt.ylabel('Probability')\n",
        "plt.title(str(time_until_exp) + \" day average % price change for \" + str(scenario_tickers[example]))\n",
        "plt.savefig('price_example.png', dpi = 800)"
      ],
      "execution_count": null,
      "outputs": []
    },
    {
      "cell_type": "code",
      "metadata": {
        "id": "SZ998uXr1oSd",
        "colab_type": "code",
        "colab": {}
      },
      "source": [
        "#Generating expected payoffs\n",
        "x_axis = np.arange(-50, 51, 1)\n",
        "ExpectedPay = []\n",
        "\n",
        "for i in range(len(options_df)):\n",
        "    payoffs = []\n",
        "    ticker = options_df.iloc[i].Ticker\n",
        "    for p in range(len(x_axis)):\n",
        "        percent = (p - 50)*0.01\n",
        "        payoff = price_percent_payoff(percent, options_df.iloc[i])\n",
        "        payoffs.append(payoff)\n",
        "    #payoffs list contains the 101 values to be multiplied by the probabilities \n",
        "    probs = dict_of_probs[ticker]\n",
        "    expected_value = sum( np.array(probs) * np.array(payoffs) )\n",
        "    ExpectedPay.append(expected_value)\n",
        "\n",
        "options_df['ExpectedPay'] = ExpectedPay"
      ],
      "execution_count": null,
      "outputs": []
    },
    {
      "cell_type": "code",
      "metadata": {
        "id": "1mOj7SDj5n4Q",
        "colab_type": "code",
        "colab": {
          "base_uri": "https://localhost:8080/",
          "height": 295
        },
        "outputId": "6723d64e-780c-4d20-eeff-f0c0153a36c4"
      },
      "source": [
        "plt.hist(ExpectedPay, bins = 40, range=[-2000, 2000])\n",
        "plt.xlabel('Total Expected Gain/Loss of Contract in $')\n",
        "plt.ylabel('Frequency')\n",
        "plt.title(\"Frequency of Expected Gains and Losses\");\n",
        "plt.savefig('payoffs.png', dpi = 800)"
      ],
      "execution_count": null,
      "outputs": [
        {
          "output_type": "display_data",
          "data": {
            "image/png": "[encoded data removed]",
            "text/plain": [
              "<Figure size 432x288 with 1 Axes>"
            ]
          },
          "metadata": {
            "tags": [],
            "needs_background": "light"
          }
        }
      ]
    }
  ]
}