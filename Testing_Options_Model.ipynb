{
  "nbformat": 4,
  "nbformat_minor": 0,
  "metadata": {
    "colab": {
      "name": "Testing_Options_Model.ipynb",
      "provenance": [],
      "collapsed_sections": [],
      "mount_file_id": "1UvG9xUS1dDYFtEcrvmbbwzM_k5Pf8gdp",
      "authorship_tag": "ABX9TyN+c6G2F0TFLX5RX2hzDZdT",
      "include_colab_link": true
    },
    "kernelspec": {
      "name": "python3",
      "display_name": "Python 3"
    }
  },
  "cells": [
    {
      "cell_type": "markdown",
      "metadata": {
        "id": "view-in-github",
        "colab_type": "text"
      },
      "source": [
        "<a href=\"https://colab.research.google.com/github/economatopoeia/stock_options/blob/master/Testing_Options_Model.ipynb\" target=\"_parent\"><img src=\"https://colab.research.google.com/assets/colab-badge.svg\" alt=\"Open In Colab\"/></a>"
      ]
    },
    {
      "cell_type": "markdown",
      "metadata": {
        "id": "gxvRTlGQUoRb",
        "colab_type": "text"
      },
      "source": [
        "Testing the Options Model Accuracy"
      ]
    },
    {
      "cell_type": "code",
      "metadata": {
        "id": "7k0XgtjkVUNF",
        "colab_type": "code",
        "colab": {
          "base_uri": "https://localhost:8080/",
          "height": 224
        },
        "outputId": "ee0d03ae-bc44-4790-e236-97efd2c0ad13"
      },
      "source": [
        "import pandas as pd\n",
        "import numpy as np\n",
        "import matplotlib.pyplot as plt\n",
        "!pip install yahoo_fin\n",
        "from yahoo_fin.stock_info import *\n",
        "from yahoo_fin.options import *\n",
        "from datetime import date \n",
        "from datetime import datetime\n",
        "import random\n",
        "%load_ext google.colab.data_table\n",
        "#%unload_ext google.colab.data_table  #to disable "
      ],
      "execution_count": null,
      "outputs": [
        {
          "output_type": "stream",
          "text": [
            "Collecting yahoo_fin\n",
            "  Downloading https://files.pythonhosted.org/packages/d3/5c/6bf0c0147cc94d643e2a2413d0a9b27967e964ee99f88f26db93a0b963b8/yahoo_fin-0.8.6-py3-none-any.whl\n",
            "Installing collected packages: yahoo-fin\n",
            "Successfully installed yahoo-fin-0.8.6\n",
            "Warning - Certain functionality \n",
            "             requires requests_html, which is not installed.\n",
            "             \n",
            "             Install using: \n",
            "             pip install requests_html\n",
            "             \n",
            "             After installation, you may have to restart your Python session.\n"
          ],
          "name": "stdout"
        }
      ]
    },
    {
      "cell_type": "code",
      "metadata": {
        "id": "m71HEPweUlvD",
        "colab_type": "code",
        "colab": {}
      },
      "source": [
        "#Importing dataframe from options \n",
        "portfolio_choices = pd.read_excel(\"/content/portfolio_monday.xlsx\")\n",
        "\n",
        "portfolio = portfolio_choices[(portfolio_choices.ExpectedPay > 0) & (portfolio_choices.Volume > 20) & (portfolio_choices['Open Interest'] > 20)]\n",
        "portfolio['FridayPrice'] = portfolio.Ticker.apply(get_live_price)"
      ],
      "execution_count": null,
      "outputs": []
    },
    {
      "cell_type": "markdown",
      "metadata": {
        "id": "MSeF8mKGjp0M",
        "colab_type": "text"
      },
      "source": [
        "Creating Portfolio Simulations"
      ]
    },
    {
      "cell_type": "code",
      "metadata": {
        "id": "BSIRVNlfcN6-",
        "colab_type": "code",
        "colab": {}
      },
      "source": [
        "N = 1000 \n",
        "money = 10000\n",
        "amount = 0\n",
        "total_rows = len(portfolio)\n",
        "\n",
        "contracts = []\n",
        "sim_n = []\n",
        "initial_cost = []\n",
        "strike = []\n",
        "new_price = []\n",
        "\n",
        "for sim in range(N):\n",
        "    amount = 0\n",
        "    while amount < money:\n",
        "        random_index = random.randint(0, (total_rows - 1))\n",
        "        contract = portfolio.iloc[random_index]\n",
        "        amount = amount + float(contract.OptionCost)\n",
        "        sim_n.append(sim)\n",
        "        contracts.append(contract['Contract Name'])\n",
        "        initial_cost.append(contract.OptionCost)\n",
        "        strike.append(contract.Strike)\n",
        "        new_price.append(contract.FridayPrice)\n",
        "\n",
        "simulations = pd.DataFrame({\n",
        "    'Sim_Number' : sim_n,\n",
        "    'Option' : contracts,\n",
        "    'Strike' : strike,\n",
        "    'Initial_Cost' : initial_cost,\n",
        "    'New_Price' : new_price\n",
        "})\n",
        "    "
      ],
      "execution_count": null,
      "outputs": []
    },
    {
      "cell_type": "markdown",
      "metadata": {
        "id": "EG3eObWRjvCD",
        "colab_type": "text"
      },
      "source": [
        "Generating Return on Investment for Each Sim"
      ]
    },
    {
      "cell_type": "code",
      "metadata": {
        "id": "UJ4q9_QZf3Uy",
        "colab_type": "code",
        "colab": {}
      },
      "source": [
        "#Assessing their payoff:\n",
        "total_returns = []\n",
        "\n",
        "for j in range(N):\n",
        "    sim = simulations[simulations.Sim_Number == j]\n",
        "    gains = []\n",
        "    total_investment_initial = sum(sim1.Initial_Cost)\n",
        "    for row in range(len(sim)):\n",
        "        contract = sim.iloc[row]\n",
        "        if contract.New_Price > contract.Strike:\n",
        "            investment_to_sell = 100 * contract.Strike\n",
        "            selling_total = 100 * contract.New_Price\n",
        "            gain = selling_total - investment_to_sell\n",
        "            gains.append(gain)\n",
        "        else:\n",
        "            pass\n",
        "    Return = sum(gains) - total_investment_initial\n",
        "    total_returns.append(Return)"
      ],
      "execution_count": null,
      "outputs": []
    },
    {
      "cell_type": "code",
      "metadata": {
        "id": "Zzw6S8XDjJRX",
        "colab_type": "code",
        "colab": {
          "base_uri": "https://localhost:8080/",
          "height": 295
        },
        "outputId": "a36329e0-8740-451a-a398-2a5019f7262b"
      },
      "source": [
        "plt.hist(total_returns, bins = 60)\n",
        "plt.xlabel('Return on Investment')\n",
        "plt.ylabel('Frequency of Simulations')\n",
        "plt.title('Distribution of Returns from Options Simulations');\n",
        "plt.savefig('dist_returns.png', dpi = 800)"
      ],
      "execution_count": null,
      "outputs": [
        {
          "output_type": "display_data",
          "data": {
            "image/png": "[encoded data removed]",
            "text/plain": [
              "<Figure size 432x288 with 1 Axes>"
            ]
          },
          "metadata": {
            "tags": [],
            "needs_background": "light"
          }
        }
      ]
    },
    {
      "cell_type": "code",
      "metadata": {
        "id": "BTclJvxKkeuD",
        "colab_type": "code",
        "colab": {
          "base_uri": "https://localhost:8080/",
          "height": 51
        },
        "outputId": "79a24ddd-d7ba-4030-ebda-e530150d1685"
      },
      "source": [
        "from statistics import mean, median\n",
        "\n",
        "print(mean(total_returns))\n",
        "print(median(total_returns))"
      ],
      "execution_count": null,
      "outputs": [
        {
          "output_type": "stream",
          "text": [
            "2705.858557510376\n",
            "2453.9957733154297\n"
          ],
          "name": "stdout"
        }
      ]
    }
  ]
}